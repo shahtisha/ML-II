{
  "nbformat": 4,
  "nbformat_minor": 0,
  "metadata": {
    "colab": {
      "provenance": [],
      "authorship_tag": "ABX9TyPUd7BhTDpEVOB2mHaU2q6K"
    },
    "kernelspec": {
      "name": "python3",
      "display_name": "Python 3"
    },
    "language_info": {
      "name": "python"
    }
  },
  "cells": [
    {
      "cell_type": "code",
      "execution_count": 12,
      "metadata": {
        "id": "kbYx0ZWmWvZU"
      },
      "outputs": [],
      "source": [
        "import numpy as np\n",
        "def step_func(x):\n",
        "  if x<0:\n",
        "    return 0\n",
        "  else:\n",
        "    return 1\n",
        "def perceptron(x,w,b):\n",
        "  y_in = np.dot(x,w)+b\n",
        "  y_pred = step_func(y_in)\n",
        "  return y_pred"
      ]
    },
    {
      "cell_type": "code",
      "source": [
        "def and_func(x):\n",
        "  w = np.array([1,1])\n",
        "  b = -2\n",
        "  return perceptron(x,w,b)\n",
        "\n",
        "def not_func(x):\n",
        "  w = -1\n",
        "  b = 0\n",
        "  return perceptron(x, w, b)"
      ],
      "metadata": {
        "id": "usDucDhbXIoF"
      },
      "execution_count": 13,
      "outputs": []
    },
    {
      "cell_type": "code",
      "source": [
        "X = ([0,0], [0,1], [1,0], [1,1])\n",
        "def nand_func(x):\n",
        "  res1 = and_func(x)\n",
        "  res2 = not_func(res1)\n",
        "  return res2\n",
        "\n",
        "print(\"NOR({}, {}) = {}\".format(0,0,nand_func(X[0])))\n",
        "print(\"NOR({}, {}) = {}\".format(0,1,nand_func(X[1])))\n",
        "print(\"NOR({}, {}) = {}\".format(1,0,nand_func(X[2])))\n",
        "print(\"NOR({}, {}) = {}\".format(1,1,nand_func(X[3])))"
      ],
      "metadata": {
        "colab": {
          "base_uri": "https://localhost:8080/"
        },
        "id": "k_buhHvOXfOM",
        "outputId": "1fa3a494-0e85-4bf9-efe1-3e56f15d8561"
      },
      "execution_count": 14,
      "outputs": [
        {
          "output_type": "stream",
          "name": "stdout",
          "text": [
            "NOR(0, 0) = 1\n",
            "NOR(0, 1) = 1\n",
            "NOR(1, 0) = 1\n",
            "NOR(1, 1) = 0\n"
          ]
        }
      ]
    },
    {
      "cell_type": "markdown",
      "source": [
        "IDTS it is right"
      ],
      "metadata": {
        "id": "j4s9bAvfZwcw"
      }
    },
    {
      "cell_type": "code",
      "source": [
        "learning_rate = 0.1\n",
        "weights = np.array([1.0, 1.0])\n",
        "bias = -1.0\n",
        "X = np.array([[0,0],[0,1],[1,0],[1,1]])\n",
        "y_out = np.array([1, 0, 0, 0])\n",
        "for epoch in range(100):\n",
        "  for i in range(len(X)):\n",
        "    y_in = np.dot(weights, X[i]+bias)\n",
        "    y_pred = step_func(y_in)\n",
        "    error = y_out[i] - y_pred\n",
        "    weights += learning_rate * error * X[i]\n",
        "    bias += learning_rate * error\n",
        "print(\"final wieghts: \", weights)\n",
        "print(\"final bias: \",bias)"
      ],
      "metadata": {
        "colab": {
          "base_uri": "https://localhost:8080/"
        },
        "id": "Iu-x1XgDYEk9",
        "outputId": "96f9e1dc-91f9-4739-a27d-fb349727d2ae"
      },
      "execution_count": 15,
      "outputs": [
        {
          "output_type": "stream",
          "name": "stdout",
          "text": [
            "final wieghts:  [-17.9 -17.9]\n",
            "final bias:  -27.700000000000127\n"
          ]
        }
      ]
    }
  ]
}