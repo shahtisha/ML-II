{
  "nbformat": 4,
  "nbformat_minor": 0,
  "metadata": {
    "colab": {
      "provenance": [],
      "authorship_tag": "ABX9TyOVmgkCePV+WYijuClv2P66",
      "include_colab_link": true
    },
    "kernelspec": {
      "name": "python3",
      "display_name": "Python 3"
    },
    "language_info": {
      "name": "python"
    }
  },
  "cells": [
    {
      "cell_type": "markdown",
      "metadata": {
        "id": "view-in-github",
        "colab_type": "text"
      },
      "source": [
        "<a href=\"https://colab.research.google.com/github/shahtisha/ML-II/blob/main/NOT_gate.ipynb\" target=\"_parent\"><img src=\"https://colab.research.google.com/assets/colab-badge.svg\" alt=\"Open In Colab\"/></a>"
      ]
    },
    {
      "cell_type": "code",
      "execution_count": 31,
      "metadata": {
        "id": "353x4WL-Xvit"
      },
      "outputs": [],
      "source": [
        "import numpy as np"
      ]
    },
    {
      "cell_type": "code",
      "source": [
        "def step_func(y_in):\n",
        "  if y_in < 0:\n",
        "    return 0\n",
        "  else:\n",
        "    return 1\n",
        "\n",
        "def perceptron(x,w,b):\n",
        "  y_in = np.dot(x, w)+b\n",
        "  y_pred = step_func(y_in)\n",
        "  return y_pred\n",
        "\n",
        "X = ([0, 1])"
      ],
      "metadata": {
        "id": "JmCNEpobwHg6"
      },
      "execution_count": 32,
      "outputs": []
    },
    {
      "cell_type": "code",
      "source": [
        "def not_func(x):\n",
        "  w = -1\n",
        "  b = 0\n",
        "  return perceptron(x, w, b)\n",
        "\n",
        "print(\"NOT({}) = {}\".format(0,not_func(X[0])))\n",
        "print(\"NOT({}) = {}\".format(1, not_func(X[1])))"
      ],
      "metadata": {
        "colab": {
          "base_uri": "https://localhost:8080/"
        },
        "id": "NU5APxDAwQK5",
        "outputId": "77c1be37-6a4c-4219-cf07-cc2d49c56ef2"
      },
      "execution_count": 33,
      "outputs": [
        {
          "output_type": "stream",
          "name": "stdout",
          "text": [
            "NOT(0) = 1\n",
            "NOT(1) = 0\n"
          ]
        }
      ]
    },
    {
      "cell_type": "code",
      "source": [
        "learning_rate = 0.1\n",
        "weights = np.array([-1.0])\n",
        "bias = 0.0\n",
        "X = np.array([[0], [1]])\n",
        "y_out = np.array([1, 0])\n",
        "\n",
        "for epoch in range(100):\n",
        "  for i in range(len(X)):\n",
        "    y_in = np.dot(weights, X[i])+bias\n",
        "    y_pred = step_func(y_in)\n",
        "    error = y_out[i] - y_pred\n",
        "    weights += learning_rate*error*X[i]\n",
        "    bias += learning_rate*error\n",
        "print(\"Final weights: \",weights)\n",
        "print(\"Final bias: \",bias)\n",
        "\n",
        "for i in range(len(X)):\n",
        "  y_in = np.dot(weights, X[i]) + bias\n",
        "  y_pred = step_func(y_in)\n",
        "  print(\"Input: \",X[i], \"Output: \", y_pred)"
      ],
      "metadata": {
        "colab": {
          "base_uri": "https://localhost:8080/"
        },
        "id": "jGNoC7Euxg7d",
        "outputId": "7b12154c-470d-4771-9ef3-0913a9d07cd8"
      },
      "execution_count": 37,
      "outputs": [
        {
          "output_type": "stream",
          "name": "stdout",
          "text": [
            "Final weights:  [-1.]\n",
            "Final bias:  0.0\n",
            "Input:  [0] Output:  1\n",
            "Input:  [1] Output:  0\n"
          ]
        }
      ]
    }
  ]
}