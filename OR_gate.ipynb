{
  "nbformat": 4,
  "nbformat_minor": 0,
  "metadata": {
    "colab": {
      "provenance": [],
      "authorship_tag": "ABX9TyO9r8kidNn4pU8NMVqtuC2x"
    },
    "kernelspec": {
      "name": "python3",
      "display_name": "Python 3"
    },
    "language_info": {
      "name": "python"
    }
  },
  "cells": [
    {
      "cell_type": "code",
      "execution_count": 26,
      "metadata": {
        "id": "353x4WL-Xvit"
      },
      "outputs": [],
      "source": [
        "import numpy as np"
      ]
    },
    {
      "cell_type": "code",
      "source": [
        "def step_func(y_in):\n",
        "  if y_in < 0:\n",
        "    return 0\n",
        "  else:\n",
        "    return 1\n",
        "\n",
        "def perceptron(x,w,b):\n",
        "  y_in = np.dot(x, w)+b\n",
        "  y_pred = step_func(y_in)\n",
        "  return y_pred\n",
        "\n",
        "X = ([0,0], [0,1], [1,0], [1,1])"
      ],
      "metadata": {
        "id": "JmCNEpobwHg6"
      },
      "execution_count": 27,
      "outputs": []
    },
    {
      "cell_type": "code",
      "source": [
        "def or_func(x):\n",
        "  w = np.array([1,1])\n",
        "  b = -1\n",
        "  return perceptron(x, w, b)\n",
        "\n",
        "print(\"OR({}, {}) = {}\".format(0,0,or_func(X[0])))\n",
        "print(\"OR({}, {}) = {}\".format(0,1,or_func(X[1])))\n",
        "print(\"OR({}, {}) = {}\".format(1,0,or_func(X[2])))\n",
        "print(\"OR({}, {}) = {}\".format(1,1,or_func(X[3])))"
      ],
      "metadata": {
        "colab": {
          "base_uri": "https://localhost:8080/"
        },
        "id": "NU5APxDAwQK5",
        "outputId": "34c8077e-f2cb-442a-8b07-459c0ad523ad"
      },
      "execution_count": 28,
      "outputs": [
        {
          "output_type": "stream",
          "name": "stdout",
          "text": [
            "OR(0, 0) = 0\n",
            "OR(0, 1) = 1\n",
            "OR(1, 0) = 1\n",
            "OR(1, 1) = 1\n"
          ]
        }
      ]
    },
    {
      "cell_type": "code",
      "source": [
        "learning_rate = 0.1\n",
        "weights = np.array([0.5, 0.5])\n",
        "bias = 0\n",
        "X = np.array([[0,0], [0,1], [1,0], [1,1]])\n",
        "y_out = np.array([0,1,1,1])\n",
        "\n",
        "for epoch in range(100):\n",
        "  for i in range(len(X)):\n",
        "    y_in = np.dot(weights, X[i])+bias\n",
        "    y_pred = step_func(y_in)\n",
        "    error = y_out[i] - y_pred\n",
        "    weights += learning_rate*error*X[i]\n",
        "    bias += learning_rate*error\n",
        "print(\"Final weights: \",weights)\n",
        "print(\"Final bias: \",bias)\n",
        "\n",
        "for i in range(len(X)):\n",
        "  y_in = np.dot(weights, X[i]) + bias\n",
        "  y_pred = step_func(y_in)\n",
        "  print(\"Input: \",X[i], \"Output: \", y_pred)"
      ],
      "metadata": {
        "colab": {
          "base_uri": "https://localhost:8080/"
        },
        "id": "jGNoC7Euxg7d",
        "outputId": "e4c9dd92-c3d2-4a84-87ed-ab1f82897779"
      },
      "execution_count": 29,
      "outputs": [
        {
          "output_type": "stream",
          "name": "stdout",
          "text": [
            "Final weights:  [0.5 0.5]\n",
            "Final bias:  -0.1\n",
            "Input:  [0 0] Output:  0\n",
            "Input:  [0 1] Output:  1\n",
            "Input:  [1 0] Output:  1\n",
            "Input:  [1 1] Output:  1\n"
          ]
        }
      ]
    },
    {
      "cell_type": "code",
      "source": [],
      "metadata": {
        "id": "yx9BXMlvw3wO"
      },
      "execution_count": 29,
      "outputs": []
    }
  ]
}