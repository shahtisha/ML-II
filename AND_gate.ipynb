{
  "nbformat": 4,
  "nbformat_minor": 0,
  "metadata": {
    "colab": {
      "provenance": [],
      "authorship_tag": "ABX9TyMgR0L8wCxYJFP5s74U/IQX",
      "include_colab_link": true
    },
    "kernelspec": {
      "name": "python3",
      "display_name": "Python 3"
    },
    "language_info": {
      "name": "python"
    }
  },
  "cells": [
    {
      "cell_type": "markdown",
      "metadata": {
        "id": "view-in-github",
        "colab_type": "text"
      },
      "source": [
        "<a href=\"https://colab.research.google.com/github/shahtisha/ML-II/blob/main/AND_gate.ipynb\" target=\"_parent\"><img src=\"https://colab.research.google.com/assets/colab-badge.svg\" alt=\"Open In Colab\"/></a>"
      ]
    },
    {
      "cell_type": "code",
      "execution_count": 13,
      "metadata": {
        "id": "353x4WL-Xvit"
      },
      "outputs": [],
      "source": [
        "import numpy as np"
      ]
    },
    {
      "cell_type": "code",
      "source": [
        "def step_func(y_in):\n",
        "  if y_in < 0:\n",
        "    return 0\n",
        "  else:\n",
        "    return 1\n",
        "\n",
        "def perceptron(x,w,b):\n",
        "  y_in = np.dot(x, w)+b\n",
        "  y_pred = step_func(y_in)\n",
        "  return y_pred\n",
        "\n",
        "X = ([0,0], [0,1], [1,0], [1,1])"
      ],
      "metadata": {
        "id": "JmCNEpobwHg6"
      },
      "execution_count": 16,
      "outputs": []
    },
    {
      "cell_type": "code",
      "source": [
        "def and_func(x):\n",
        "  w = np.array([1,1])\n",
        "  b = -2\n",
        "  return perceptron(x, w, b)\n",
        "\n",
        "print(\"AND({}, {}) = {}\".format(0,0,and_func(X[0])))\n",
        "print(\"AND({}, {}) = {}\".format(0,1,and_func(X[1])))\n",
        "print(\"AND({}, {}) = {}\".format(1,0,and_func(X[2])))\n",
        "print(\"AND({}, {}) = {}\".format(1,1,and_func(X[3])))"
      ],
      "metadata": {
        "colab": {
          "base_uri": "https://localhost:8080/"
        },
        "id": "NU5APxDAwQK5",
        "outputId": "78ab2869-173d-4c70-d5c6-9c2a4ec86dfa"
      },
      "execution_count": 17,
      "outputs": [
        {
          "output_type": "stream",
          "name": "stdout",
          "text": [
            "AND(0, 0) = 0\n",
            "AND(0, 1) = 0\n",
            "AND(1, 0) = 0\n",
            "AND(1, 1) = 1\n"
          ]
        }
      ]
    },
    {
      "cell_type": "code",
      "source": [
        "learning_rate = 0.1\n",
        "weights = np.array([0.5, 0.5])\n",
        "bias = 0\n",
        "X = np.array([[0,0], [0,1], [1,0], [1,1]])\n",
        "y_out = np.array([0,0,0,1])\n",
        "\n",
        "for epoch in range(100):\n",
        "  for i in range(len(X)):\n",
        "    y_in = np.dot(weights, X[i])+bias\n",
        "    y_pred = step_func(y_in)\n",
        "    error = y_out[i] - y_pred\n",
        "    weights += learning_rate*error*X[i]\n",
        "    bias += learning_rate*error\n",
        "print(\"Final weights: \",weights)\n",
        "print(\"Final bias: \",bias)\n",
        "\n",
        "for i in range(len(X)):\n",
        "  y_in = np.dot(weights, X[i]) + bias\n",
        "  y_pred = step_func(y_in)\n",
        "  print(\"Input: \",X[i], \"Output: \", y_pred)"
      ],
      "metadata": {
        "colab": {
          "base_uri": "https://localhost:8080/"
        },
        "id": "jGNoC7Euxg7d",
        "outputId": "5a0c65ae-10ef-480d-d7bc-1eead5e19d39"
      },
      "execution_count": 21,
      "outputs": [
        {
          "output_type": "stream",
          "name": "stdout",
          "text": [
            "Final weights:  [0.3 0.3]\n",
            "Final bias:  -0.5\n",
            "Input:  [0 0] Output:  0\n",
            "Input:  [0 1] Output:  0\n",
            "Input:  [1 0] Output:  0\n",
            "Input:  [1 1] Output:  1\n"
          ]
        }
      ]
    },
    {
      "cell_type": "code",
      "source": [],
      "metadata": {
        "id": "yx9BXMlvw3wO"
      },
      "execution_count": null,
      "outputs": []
    }
  ]
}