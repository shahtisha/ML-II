{
  "nbformat": 4,
  "nbformat_minor": 0,
  "metadata": {
    "colab": {
      "provenance": [],
      "authorship_tag": "ABX9TyMGHzQWsUXNc7IguGhpuLup"
    },
    "kernelspec": {
      "name": "python3",
      "display_name": "Python 3"
    },
    "language_info": {
      "name": "python"
    }
  },
  "cells": [
    {
      "cell_type": "code",
      "source": [
        "import numpy as np\n",
        "import matplotlib.pyplot as plt"
      ],
      "metadata": {
        "id": "d_CVF3ToPKFn"
      },
      "execution_count": null,
      "outputs": []
    },
    {
      "cell_type": "code",
      "source": [
        "def perceptron(x, w, b):\n",
        "  y_in = np.dot(x, w)+b\n",
        "  y_pred = sigmoid(y_in)\n",
        "  return y_pred\n",
        "\n",
        "def sigmoid(y_in):\n",
        "  y_pred = 1/(1 + np.exp(-y_in))\n",
        "  return y_pred\n",
        "\n",
        "def DW(x, y, w, b):\n",
        "  y_pred = perceptron(x, w, b)\n",
        "  dw = (y-y_pred)*(1-y_pred)*y_pred*x\n",
        "  return dw\n",
        "\n",
        "def DB(x, y, w, b):\n",
        "  y_pred = perceptron(x, w, b)\n",
        "  db = (y-y_pred)*(1-y_pred)*y_pred\n",
        "  return db"
      ],
      "metadata": {
        "id": "9UjMxPnmQ5Bf"
      },
      "execution_count": null,
      "outputs": []
    },
    {
      "cell_type": "code",
      "source": [
        "def adagrad(x, y, w, b, alpha, epsilon):\n",
        "  epoch = 10\n",
        "  errors = []\n",
        "  error_epoch = 0\n",
        "  for i in range(epoch):\n",
        "    dw, db = 0,0\n",
        "    for xi, yi in zip(x, y):\n",
        "      dw += DW(xi, yi, w, b)\n",
        "      db += DB(xi, yi, w, b)\n",
        "      w -= (alpha / (np.sqrt(dw**2) + epsilon)) * dw\n",
        "      b -= (alpha / (np.sqrt(db**2) + epsilon)) * db\n",
        "      error_epoch += (yi - perceptron(xi, w, b))**2\n",
        "    errors.append(error_epoch / len(x))\n",
        "  print(\"squared error loss \\n\", errors)\n",
        "  plt.plot(errors)\n",
        "  plt.xlabel(\"epoch\")\n",
        "  plt.ylabel(\"loss\")\n",
        "  plt.show()\n",
        "  return w, b\n",
        "\n",
        "x = np.array([0.5, 2.5])\n",
        "y = np.array([0.2, 0.9])\n",
        "w = 0\n",
        "b = 0\n",
        "alpha = 0.1\n",
        "epsilon = 0.00001\n",
        "new_w, new_b = adagrad(x, y, w, b, alpha, epsilon)\n",
        "print(\"updated weight is \", new_w)\n",
        "print(\"updated bias is \",new_b)\n"
      ],
      "metadata": {
        "colab": {
          "base_uri": "https://localhost:8080/",
          "height": 543
        },
        "id": "jO-68q-1TCJU",
        "outputId": "5e2386c1-71e1-44c4-de6a-8b06d8610b78"
      },
      "execution_count": 37,
      "outputs": [
        {
          "output_type": "stream",
          "name": "stdout",
          "text": [
            "squared error loss \n",
            " [0.13683460688092947, 0.2736435300964197, 0.4104164310320655, 0.547129801448417, 0.6836929786485955, 0.8028184646237951, 0.9229273188296292, 1.0494358015234095, 1.1861801150276492, 1.3360775851511897]\n"
          ]
        },
        {
          "output_type": "display_data",
          "data": {
            "text/plain": [
              "<Figure size 640x480 with 1 Axes>"
            ],
            "image/png": "[encoded data removed]"
          },
          "metadata": {}
        },
        {
          "output_type": "stream",
          "name": "stdout",
          "text": [
            "updated weight is  -7.165799801994721e-05\n",
            "updated bias is  0.9978633303101756\n"
          ]
        }
      ]
    }
  ]
}