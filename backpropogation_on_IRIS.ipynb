{
  "nbformat": 4,
  "nbformat_minor": 0,
  "metadata": {
    "colab": {
      "provenance": [],
      "authorship_tag": "ABX9TyPZpTusN3c1NSpxrtfoKvcf"
    },
    "kernelspec": {
      "name": "python3",
      "display_name": "Python 3"
    },
    "language_info": {
      "name": "python"
    }
  },
  "cells": [
    {
      "cell_type": "code",
      "source": [
        "import numpy as np\n",
        "import pandas as pd\n",
        "import matplotlib.pyplot as plt\n",
        "from sklearn.datasets import load_iris\n",
        "from sklearn.model_selection import train_test_split"
      ],
      "metadata": {
        "id": "vYBrV_He0GhC"
      },
      "execution_count": 3,
      "outputs": []
    },
    {
      "cell_type": "code",
      "source": [
        "df = load_iris()\n",
        "X = df.data\n",
        "y = df.target"
      ],
      "metadata": {
        "id": "GK0pc1cK0iaX"
      },
      "execution_count": 7,
      "outputs": []
    },
    {
      "cell_type": "code",
      "source": [
        "y = pd.get_dummies(y).values"
      ],
      "metadata": {
        "id": "E4MFEmQW04kV"
      },
      "execution_count": 8,
      "outputs": []
    },
    {
      "cell_type": "code",
      "source": [
        "X_train, X_test, y_train, y_test = train_test_split(X, y, test_size = 20, random_state = 5)"
      ],
      "metadata": {
        "id": "BWW0Y1wB1AsF"
      },
      "execution_count": 9,
      "outputs": []
    },
    {
      "cell_type": "code",
      "source": [
        "input_size = 4\n",
        "output_size = 3\n",
        "hidden_size = 2\n",
        "learning_rate = 0.1\n",
        "iterations = 1000\n",
        "res = pd.DataFrame(columns = [\"mse\", \"accuracy\"])"
      ],
      "metadata": {
        "id": "-viRngBu1Tpm"
      },
      "execution_count": 18,
      "outputs": []
    },
    {
      "cell_type": "code",
      "source": [
        "np.random.seed(20)\n",
        "W1 = np.random.normal(scale = 0.5, size=(input_size, hidden_size))\n",
        "W2 = np.random.normal(scale = 0.5, size=(hidden_size, output_size))"
      ],
      "metadata": {
        "id": "yDdbt0QH1sE_"
      },
      "execution_count": 19,
      "outputs": []
    },
    {
      "cell_type": "code",
      "source": [
        "def sigmoid(x):\n",
        "  y = 1/(1+np.exp(-x))\n",
        "  return y\n",
        "\n",
        "def MSE(y, y_pred):\n",
        "  return ((y_pred - y)**2).sum() / y_pred.size\n",
        "\n",
        "def accuracy(y, y_pred):\n",
        "  acc = y_pred.argmax(axis = 1) == y.argmax(axis = 1)\n",
        "  return acc.mean()"
      ],
      "metadata": {
        "id": "mV4mwORz2Fvu"
      },
      "execution_count": 20,
      "outputs": []
    },
    {
      "cell_type": "code",
      "source": [
        "for i in range(iterations):\n",
        "  Z1 = np.dot(X_train, W1)\n",
        "  A1 = sigmoid(Z1)\n",
        "  Z2 = np.dot(A1, W2)\n",
        "  A2 = sigmoid(Z2)\n",
        "  mse = MSE(y_train, A2)\n",
        "  acc = accuracy(y_train, A2)\n",
        "  df1 = pd.DataFrame({\"mse\": [mse], \"accuracy\":[acc]})\n",
        "  res = pd.concat([res, df1], ignore_index=True)\n",
        "\n",
        "  E1 = A2 - y_train\n",
        "  dW1 = E1*A2*(1 - A2)\n",
        "  E2 = np.dot(dW1, W2.T)\n",
        "  dW2 = E2*A1*(1 - A1)\n",
        "\n",
        "  newW2 = np.dot(A1.T, dW1) / len(y_train)\n",
        "  newW1 = np.dot(X_train.T, dW2) / len(y_train)\n",
        "  W2 -= learning_rate * newW2\n",
        "  W1 -= learning_rate * newW1\n",
        "\n",
        "  if i % 500 == 0:\n",
        "    print(f\"iteration {i}: MSE = {mse}, Accuarcy = {acc}\")"
      ],
      "metadata": {
        "colab": {
          "base_uri": "https://localhost:8080/"
        },
        "id": "_kvbNpUS22Wt",
        "outputId": "943a147e-880d-4689-ff2b-ec745c909b2d"
      },
      "execution_count": 21,
      "outputs": [
        {
          "output_type": "stream",
          "name": "stdout",
          "text": [
            "iteration 0: MSE = 0.263262235106012, Accuarcy = 0.33076923076923076\n",
            "iteration 500: MSE = 0.16583015636641582, Accuarcy = 0.9307692307692308\n"
          ]
        }
      ]
    },
    {
      "cell_type": "code",
      "source": [
        "print(\"mse = \",mse)\n",
        "print(\"accuracy = \", acc)"
      ],
      "metadata": {
        "colab": {
          "base_uri": "https://localhost:8080/"
        },
        "id": "wOoq1z4x5if7",
        "outputId": "7e438614-14d1-4302-d29f-082edc6f1d0e"
      },
      "execution_count": 23,
      "outputs": [
        {
          "output_type": "stream",
          "name": "stdout",
          "text": [
            "mse =  0.12969462961684008\n",
            "accuracy =  0.6923076923076923\n"
          ]
        }
      ]
    },
    {
      "cell_type": "code",
      "source": [
        "print(\"W1 = \\n\",W1)\n",
        "print(\"W2 = \\n\",W2)\n",
        "print(\"Z1 = \\n\",Z1)\n",
        "print(\"Z2 = \\n\",Z2)"
      ],
      "metadata": {
        "colab": {
          "base_uri": "https://localhost:8080/"
        },
        "id": "lI8Ddrn-5qrc",
        "outputId": "77e8a397-947c-429f-eb96-245a9eb4842f"
      },
      "execution_count": 24,
      "outputs": [
        {
          "output_type": "stream",
          "name": "stdout",
          "text": [
            "W1 = \n",
            " [[ 0.54239187  0.23467134]\n",
            " [ 0.76850239 -1.43821525]\n",
            " [-1.66070836  1.13607788]\n",
            " [-0.07083633 -0.10713217]]\n",
            "W2 = \n",
            " [[ 1.63163255 -1.2184774  -1.75366328]\n",
            " [-2.13006746 -0.04507269  0.08012882]]\n",
            "Z1 = \n",
            " [[-1.27447061  1.80898824]\n",
            " [-3.8247095   3.61051939]\n",
            " [ 3.21142499 -2.39390795]\n",
            " [-2.90483568  3.28790168]\n",
            " [-1.55797318  1.51756797]\n",
            " [-3.15432101  2.45221628]\n",
            " [-1.53306983  2.0763201 ]\n",
            " [-1.74659449  1.79840048]\n",
            " [-2.36690124  2.44939   ]\n",
            " [-3.83176895  3.5997832 ]\n",
            " [ 2.87253317 -2.00949319]\n",
            " [-1.98388133  2.38706683]\n",
            " [-0.79367736  1.46705395]\n",
            " [ 3.26564662 -2.37042819]\n",
            " [-1.64845799  2.22933352]\n",
            " [ 2.90752212 -2.00274286]\n",
            " [ 2.70086319 -2.1061478 ]\n",
            " [-3.81044862  4.17450766]\n",
            " [ 3.22012181 -2.41462324]\n",
            " [-3.03348335  2.6731973 ]\n",
            " [-3.38260277  3.06709798]\n",
            " [-1.59588168  2.03087478]\n",
            " [ 3.10831668 -2.27758214]\n",
            " [ 3.01377114 -2.47109754]\n",
            " [-2.06786356  2.56280291]\n",
            " [-2.58376032  2.68727775]\n",
            " [-1.57545393  1.68009618]\n",
            " [-3.44399045  3.07556288]\n",
            " [-4.1850203   3.71628051]\n",
            " [ 2.70314454 -1.71193125]\n",
            " [-3.09910021  3.35851825]\n",
            " [ 3.16275947 -2.08607412]\n",
            " [ 2.76039233 -2.25118949]\n",
            " [ 3.95190593 -3.32800127]\n",
            " [ 3.09278157 -2.09957478]\n",
            " [-1.6415131   2.02936059]\n",
            " [-1.96531211  1.89971144]\n",
            " [-1.38780653  1.93479997]\n",
            " [-0.37274895  0.89142396]\n",
            " [-3.09087315  2.66993966]\n",
            " [-1.6341259   2.16544421]\n",
            " [-2.945689    2.90290714]\n",
            " [-3.95596848  3.56280278]\n",
            " [-2.11860878  2.56603168]\n",
            " [ 3.58519121 -2.9822815 ]\n",
            " [-1.52089659  2.08231333]\n",
            " [ 3.09080848 -2.44686069]\n",
            " [-2.48401388  2.75495254]\n",
            " [-2.85842405  2.91765806]\n",
            " [-0.80465553  1.09355269]\n",
            " [-3.43921235  2.69208252]\n",
            " [-1.9544485   2.06250357]\n",
            " [-2.65037635  2.48977649]\n",
            " [-2.21421534  3.02915022]\n",
            " [-1.58370844  2.03686802]\n",
            " [-1.66271887  1.66534525]\n",
            " [-2.99109925  3.06942122]\n",
            " [-2.23019276  2.87110104]\n",
            " [ 3.47152753 -2.9818172 ]\n",
            " [-3.38260277  3.06709798]\n",
            " [ 2.80266188 -2.0656747 ]\n",
            " [ 2.04576121 -1.6256871 ]\n",
            " [-1.68031417  1.61716435]\n",
            " [ 2.56157086 -1.6290643 ]\n",
            " [ 2.53364135 -1.62507843]\n",
            " [-3.56437786  3.44402839]\n",
            " [-1.07162381  1.50694726]\n",
            " [ 2.6138194  -1.95287046]\n",
            " [-3.42965041  3.26506354]\n",
            " [ 2.54070079 -1.61434224]\n",
            " [-3.4639759   3.76239803]\n",
            " [-2.41048041  2.42067411]\n",
            " [ 4.21106201 -3.04856746]\n",
            " [ 3.73721364 -2.9066061 ]\n",
            " [-3.38932651  3.43509918]\n",
            " [-1.7191073   1.45835807]\n",
            " [-1.83024897  2.09948398]\n",
            " [ 3.86997594 -3.17946689]\n",
            " [ 2.3359875  -1.70226802]\n",
            " [-3.42648225  3.24484142]\n",
            " [-2.09612878  2.18805138]\n",
            " [-2.12405829  2.19203724]\n",
            " [ 2.37097645 -1.69551769]\n",
            " [-2.32149098  2.28287592]\n",
            " [-2.53857121  2.35273539]\n",
            " [-1.65880014  2.02811032]\n",
            " [ 2.54384151 -1.96637111]\n",
            " [-1.76841103  2.6804656 ]\n",
            " [-3.40705586  3.09779236]\n",
            " [-4.20336837  4.37166417]\n",
            " [-4.18719504  3.27938311]\n",
            " [-3.81275742  3.44848435]\n",
            " [ 3.16601473 -2.22739387]\n",
            " [ 3.17273847 -2.59539507]\n",
            " [-3.25298118  3.14626606]\n",
            " [-4.93906327  5.17566712]\n",
            " [ 2.51777054 -1.82580846]\n",
            " [-2.5253988   3.24155084]\n",
            " [ 2.8340678  -2.04295204]\n",
            " [ 3.02107919 -1.96052631]\n",
            " [-3.45277438  3.21737581]\n",
            " [-1.64879369  1.85059613]\n",
            " [-4.6806852   4.74030699]\n",
            " [ 3.49828942 -2.28648827]\n",
            " [-2.62602986  2.50176295]\n",
            " [ 3.13797067 -2.43411713]\n",
            " [-2.50713784  2.70726481]\n",
            " [ 3.11537612 -2.26684595]\n",
            " [-1.92270686  2.46396363]\n",
            " [ 3.07310658 -2.45236075]\n",
            " [-3.78093663  3.47545679]\n",
            " [-3.5340604   3.79157822]\n",
            " [ 2.02721944 -0.80652494]\n",
            " [-3.01395036  2.48346738]\n",
            " [-3.08923576  2.63848817]\n",
            " [-3.72660045  3.70964567]\n",
            " [-1.89499851  2.29194949]\n",
            " [ 2.31339295 -1.53499685]\n",
            " [-1.38985877  1.96200166]\n",
            " [ 2.50157196 -2.15188591]\n",
            " [ 3.00357099 -2.12980486]\n",
            " [-1.56089274  2.03762511]\n",
            " [-3.43148945  3.20690353]\n",
            " [ 2.81831154 -2.03297294]\n",
            " [-3.28816384  3.30329422]\n",
            " [ 2.27492758 -1.5684557 ]\n",
            " [-2.42959854  2.61465381]\n",
            " [-3.47222821  3.03261811]\n",
            " [-5.44592749  5.65816406]\n",
            " [-1.65738391  1.82863057]]\n",
            "Z2 = \n",
            " [[-1.47313439e+00 -3.05071755e-01 -3.14348259e-01]\n",
            " [-2.03823789e+00 -7.02151283e-02  4.02731512e-02]\n",
            " [ 1.38941583e+00 -1.17433446e+00 -1.67799024e+00]\n",
            " [-1.96783802e+00 -1.06985236e-01 -1.40497888e-02]\n",
            " [-1.46262663e+00 -2.49043076e-01 -2.39379910e-01]\n",
            " [-1.89359961e+00 -9.16327810e-02  1.76258673e-03]\n",
            " [-1.60237633e+00 -2.56541207e-01 -2.40243143e-01]\n",
            " [-1.58456933e+00 -2.19754697e-01 -1.91744484e-01]\n",
            " [-1.82008938e+00 -1.46189371e-01 -7.67865457e-02]\n",
            " [-2.03788878e+00 -7.00234913e-02  4.05088107e-02]\n",
            " [ 1.29169163e+00 -1.15789399e+00 -1.64931069e+00]\n",
            " [-1.75276600e+00 -1.88808504e-01 -1.38804481e-01]\n",
            " [-1.22238619e+00 -4.16063600e-01 -4.80858765e-01]\n",
            " [ 1.38875803e+00 -1.17681505e+00 -1.68129658e+00]\n",
            " [-1.65922613e+00 -2.37428831e-01 -2.10664475e-01]\n",
            " [ 1.29303549e+00 -1.16005117e+00 -1.65231296e+00]\n",
            " [ 1.29704453e+00 -1.14601370e+00 -1.63362155e+00]\n",
            " [-2.06154410e+00 -7.10880235e-02  4.06390934e-02]\n",
            " [ 1.39329314e+00 -1.17465577e+00 -1.67868114e+00]\n",
            " [-1.91672709e+00 -9.84066110e-02 -5.85232826e-03]\n",
            " [-1.98084709e+00 -8.33760496e-02  1.86958627e-02]\n",
            " [-1.60728094e+00 -2.45389765e-01 -2.24858420e-01]\n",
            " [ 1.36292355e+00 -1.16985507e+00 -1.67018503e+00]\n",
            " [ 1.38845498e+00 -1.16424797e+00 -1.66430509e+00]\n",
            " [-1.79367691e+00 -1.78852046e-01 -1.22647012e-01]\n",
            " [-1.87897521e+00 -1.27980511e-01 -4.82930963e-02]\n",
            " [-1.51510920e+00 -2.47034286e-01 -2.33188515e-01]\n",
            " [-1.98470038e+00 -8.10847231e-02  2.20456201e-02]\n",
            " [-2.05410872e+00 -6.25815647e-02  5.16339508e-02]\n",
            " [ 1.20270385e+00 -1.14819375e+00 -1.63031265e+00]\n",
            " [-1.98718863e+00 -9.64127982e-02  1.51050310e-03]\n",
            " [ 1.32929208e+00 -1.17329519e+00 -1.67260167e+00]\n",
            " [ 1.33084036e+00 -1.14957655e+00 -1.64067309e+00]\n",
            " [ 1.52619689e+00 -1.19632001e+00 -1.71674693e+00]\n",
            " [ 1.32751205e+00 -1.16980799e+00 -1.66777434e+00]\n",
            " [-1.61722122e+00 -2.37712714e-01 -2.13831974e-01]\n",
            " [-1.65163467e+00 -1.89141402e-01 -1.45957126e-01]\n",
            " [-1.53464221e+00 -2.82918431e-01 -2.80354159e-01]\n",
            " [-8.44827283e-01 -5.28873555e-01 -6.58229698e-01]\n",
            " [-1.92030367e+00 -9.54135203e-02 -1.57320256e-03]\n",
            " [-1.64380698e+00 -2.39540455e-01 -2.14538146e-01]\n",
            " [-1.93694597e+00 -1.03853616e-01 -1.18681964e-02]\n",
            " [-2.03977782e+00 -6.70191084e-02  4.46913345e-02]\n",
            " [-1.80221873e+00 -1.72823746e-01 -1.13939840e-01]\n",
            " [ 1.48396694e+00 -1.18704109e+00 -1.70141703e+00]\n",
            " [-1.60072672e+00 -2.58741151e-01 -2.43323428e-01]\n",
            " [ 1.39012287e+00 -1.16837016e+00 -1.66998251e+00]\n",
            " [-1.87624156e+00 -1.36433546e-01 -5.98898203e-02]\n",
            " [-1.93146128e+00 -1.09130896e-01 -1.93585121e-02]\n",
            " [-1.09089201e+00 -4.10317413e-01 -4.81814292e-01]\n",
            " [-1.94334105e+00 -8.03826493e-02  2.02524125e-02]\n",
            " [-1.68664920e+00 -1.91360729e-01 -1.46633455e-01]\n",
            " [-1.85850629e+00 -1.22252164e-01 -4.19138596e-02]\n",
            " [-1.87032022e+00 -1.63228986e-01 -9.64686156e-02]\n",
            " [-1.60579321e+00 -2.47503446e-01 -2.27811481e-01]\n",
            " [-1.53056759e+00 -2.32280388e-01 -2.12239286e-01]\n",
            " [-1.95662007e+00 -1.01629094e-01 -7.56003851e-03]\n",
            " [-1.85670431e+00 -1.61173333e-01 -9.45950014e-02]\n",
            " [ 1.47878461e+00 -1.18320601e+00 -1.69589440e+00]\n",
            " [-1.98084709e+00 -8.33760496e-02  1.86958627e-02]\n",
            " [ 1.29793938e+00 -1.15318628e+00 -1.64336720e+00]\n",
            " [ 1.09390631e+00 -1.08576884e+00 -1.53879875e+00]\n",
            " [-1.52044213e+00 -2.29129298e-01 -2.08654971e-01]\n",
            " [ 1.16473166e+00 -1.13790033e+00 -1.61389491e+00]\n",
            " [ 1.16050084e+00 -1.13563562e+00 -1.61055607e+00]\n",
            " [-2.01832680e+00 -7.75262744e-02  2.90799735e-02]\n",
            " [-1.32694119e+00 -3.47796976e-01 -3.81737027e-01]\n",
            " [ 1.25483780e+00 -1.14023566e+00 -1.62302101e+00]\n",
            " [-1.99961618e+00 -8.19450824e-02  2.18723676e-02]\n",
            " [ 1.15812962e+00 -1.13628673e+00 -1.61127821e+00]\n",
            " [-2.03128694e+00 -8.13344310e-02  2.47961983e-02]\n",
            " [-1.82103211e+00 -1.42007752e-01 -7.10769275e-02]\n",
            " [ 1.51042511e+00 -1.20196909e+00 -1.72333046e+00]\n",
            " [ 1.48237341e+00 -1.19173044e+00 -1.70764421e+00]\n",
            " [-2.00944482e+00 -8.37192092e-02  2.01279213e-02]\n",
            " [-1.47947578e+00 -2.21908539e-01 -2.01618871e-01]\n",
            " [-1.67135961e+00 -2.08744166e-01 -1.71122599e-01]\n",
            " [ 1.51229247e+00 -1.19464135e+00 -1.71355836e+00]\n",
            " [ 1.15861446e+00 -1.11732344e+00 -1.58570108e+00]\n",
            " [-1.99791884e+00 -8.20296835e-02  2.16456153e-02]\n",
            " [-1.73592735e+00 -1.74131017e-01 -1.20099117e-01]\n",
            " [-1.74108734e+00 -1.70867775e-01 -1.15350212e-01]\n",
            " [ 1.16125806e+00 -1.12074044e+00 -1.59049084e+00]\n",
            " [-1.78635183e+00 -1.50012624e-01 -8.41858734e-02]\n",
            " [-1.82484568e+00 -1.30592606e-01 -5.54083965e-02]\n",
            " [-1.62075727e+00 -2.34862132e-01 -2.09747987e-01]\n",
            " [ 1.25046966e+00 -1.13458367e+00 -1.61509867e+00]\n",
            " [-1.75491226e+00 -2.19958833e-01 -1.80729677e-01]\n",
            " [-1.98483868e+00 -8.24993372e-02  2.01443990e-02]\n",
            " [-2.07855032e+00 -6.27663686e-02  5.30043911e-02]\n",
            " [-2.02746483e+00 -6.19732188e-02  5.06895190e-02]\n",
            " [-2.02827250e+00 -7.03173252e-02  3.94746224e-02]\n",
            " [ 1.35747593e+00 -1.17285273e+00 -1.67387220e+00]\n",
            " [ 1.41726432e+00 -1.17190376e+00 -1.67655348e+00]\n",
            " [-1.98062273e+00 -8.88524905e-02  1.12852457e-02]\n",
            " [-2.10555602e+00 -5.38049761e-02  6.68964073e-02]\n",
            " [ 1.21358743e+00 -1.13314019e+00 -1.61070471e+00]\n",
            " [-1.92816887e+00 -1.33921444e-01 -5.30555226e-02]\n",
            " [ 1.29578996e+00 -1.15532346e+00 -1.64611092e+00]\n",
            " [ 1.29210847e+00 -1.16670952e+00 -1.66124339e+00]\n",
            " [-1.99707156e+00 -8.10199355e-02  2.29530871e-02]\n",
            " [-1.57699736e+00 -2.35618486e-01 -2.13669865e-01]\n",
            " [-2.09569727e+00 -5.61962522e-02  6.30136235e-02]\n",
            " [ 1.38637548e+00 -1.18614393e+00 -1.69373700e+00]\n",
            " [-1.85782967e+00 -1.24136545e-01 -4.45034981e-02]\n",
            " [ 1.39125382e+00 -1.17075093e+00 -1.67327262e+00]\n",
            " [-1.87306441e+00 -1.34327771e-01 -5.72566278e-02]\n",
            " [ 1.36145675e+00 -1.17024713e+00 -1.67061728e+00]\n",
            " [-1.75413800e+00 -1.97172181e-01 -1.50008403e-01]\n",
            " [ 1.38976902e+00 -1.16744796e+00 -1.66871365e+00]\n",
            " [-2.02885207e+00 -7.11852856e-02  3.83408860e-02]\n",
            " [-2.03590153e+00 -7.89325068e-02  2.83457740e-02]\n",
            " [ 7.83780296e-01 -1.09001089e+00 -1.52397206e+00]\n",
            " [-1.88880744e+00 -9.88929918e-02 -8.35970857e-03]\n",
            " [-1.91608022e+00 -9.54088235e-02 -1.84679432e-03]\n",
            " [-2.03989526e+00 -7.29432476e-02  3.66987714e-02]\n",
            " [-1.72059444e+00 -2.00359087e-01 -1.56535508e-01]\n",
            " [ 1.10645329e+00 -1.11613894e+00 -1.58064416e+00]\n",
            " [-1.54149960e+00 -2.82654023e-01 -2.79542571e-01]\n",
            " [ 1.28538260e+00 -1.13019854e+00 -1.61149076e+00]\n",
            " [ 1.32740395e+00 -1.16497720e+00 -1.66124336e+00]\n",
            " [-1.60066186e+00 -2.51461664e-01 -2.33497030e-01]\n",
            " [-1.99519907e+00 -8.17809366e-02  2.18012705e-02]\n",
            " [ 1.29226655e+00 -1.15435666e+00 -1.64457175e+00]\n",
            " [-1.99495240e+00 -8.76044426e-02  1.39204759e-02]\n",
            " [ 1.11151099e+00 -1.11202187e+00 -1.57541942e+00]\n",
            " [-1.85191812e+00 -1.40870729e-01 -6.74942633e-02]\n",
            " [-1.98213015e+00 -7.99831571e-02  2.33628902e-02]\n",
            " [-2.11471104e+00 -5.04743697e-02  7.20010805e-02]\n",
            " [-1.57335391e+00 -2.34089713e-01 -2.11846800e-01]]\n"
          ]
        }
      ]
    },
    {
      "cell_type": "code",
      "source": [
        "print(res.accuracy.plot(title =\"acc vs epoch\"))"
      ],
      "metadata": {
        "colab": {
          "base_uri": "https://localhost:8080/",
          "height": 470
        },
        "id": "su70EUax6Fzk",
        "outputId": "02970bbc-9214-4a5e-9610-c870b766506e"
      },
      "execution_count": 25,
      "outputs": [
        {
          "output_type": "stream",
          "name": "stdout",
          "text": [
            "Axes(0.125,0.11;0.775x0.77)\n"
          ]
        },
        {
          "output_type": "display_data",
          "data": {
            "text/plain": [
              "<Figure size 640x480 with 1 Axes>"
            ],
            "image/png": "[encoded data removed]"
          },
          "metadata": {}
        }
      ]
    },
    {
      "cell_type": "code",
      "source": [
        "print(res.mse.plot(title = \"mse vs epoch\"))"
      ],
      "metadata": {
        "colab": {
          "base_uri": "https://localhost:8080/",
          "height": 470
        },
        "id": "XPcdzLj06nFN",
        "outputId": "02e0885a-6414-4200-db53-93c105193128"
      },
      "execution_count": 26,
      "outputs": [
        {
          "output_type": "stream",
          "name": "stdout",
          "text": [
            "Axes(0.125,0.11;0.775x0.77)\n"
          ]
        },
        {
          "output_type": "display_data",
          "data": {
            "text/plain": [
              "<Figure size 640x480 with 1 Axes>"
            ],
            "image/png": "[encoded data removed]"
          },
          "metadata": {}
        }
      ]
    },
    {
      "cell_type": "code",
      "source": [
        "Z1_test = np.dot(X_test, W1)\n",
        "A1_test  = sigmoid(Z1_test)\n",
        "Z2_test = np.dot(A1_test, W2)\n",
        "A2_test = sigmoid(Z2_test)"
      ],
      "metadata": {
        "id": "w8eF-DOn66XN"
      },
      "execution_count": 28,
      "outputs": []
    },
    {
      "cell_type": "code",
      "source": [
        "print(\"acc = \",accuracy(y_test, A2_test))\n",
        "print(\"mse = \",MSE(y_test, A2_test))"
      ],
      "metadata": {
        "colab": {
          "base_uri": "https://localhost:8080/"
        },
        "id": "0lPTGQ657frq",
        "outputId": "6754f41d-b5a0-4d3d-9ddd-8ae33f71d678"
      },
      "execution_count": 29,
      "outputs": [
        {
          "output_type": "stream",
          "name": "stdout",
          "text": [
            "acc =  0.85\n",
            "mse =  0.12662532071876703\n"
          ]
        }
      ]
    }
  ]
}