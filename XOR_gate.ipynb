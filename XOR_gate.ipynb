{
  "nbformat": 4,
  "nbformat_minor": 0,
  "metadata": {
    "colab": {
      "provenance": [],
      "authorship_tag": "ABX9TyMO18b6p70yf4DLtBFovD2T"
    },
    "kernelspec": {
      "name": "python3",
      "display_name": "Python 3"
    },
    "language_info": {
      "name": "python"
    }
  },
  "cells": [
    {
      "cell_type": "code",
      "execution_count": 12,
      "metadata": {
        "id": "kbYx0ZWmWvZU"
      },
      "outputs": [],
      "source": [
        "import numpy as np\n",
        "def step_func(x):\n",
        "  if x<0:\n",
        "    return 0\n",
        "  else:\n",
        "    return 1\n",
        "def perceptron(x,w,b):\n",
        "  y_in = np.dot(x,w)+b\n",
        "  y_pred = step_func(y_in)\n",
        "  return y_pred"
      ]
    },
    {
      "cell_type": "code",
      "source": [
        "def and_func(x):\n",
        "  w = np.array([1,1])\n",
        "  b = -2\n",
        "  return perceptron(x,w,b)\n",
        "\n",
        "def not_func(x):\n",
        "  w = -1\n",
        "  b = 0\n",
        "  return perceptron(x, w, b)\n",
        "\n",
        "def nand_func(x):\n",
        "  res1 = and_func(x)\n",
        "  res2 = not_func(res1)\n",
        "  return res2\n",
        "\n",
        "def or_func(x):\n",
        "  w = np.array([1, 1])\n",
        "  b = -1\n",
        "  return perceptron(x, w, b)"
      ],
      "metadata": {
        "id": "usDucDhbXIoF"
      },
      "execution_count": 16,
      "outputs": []
    },
    {
      "cell_type": "code",
      "source": [
        "X = ([0,0], [0,1], [1,0], [1,1])\n",
        "def xor_func(x):\n",
        "  return and_func([nand_func(x), or_func(x)])\n",
        "\n",
        "print(\"NOR({}, {}) = {}\".format(0,0,xor_func(X[0])))\n",
        "print(\"NOR({}, {}) = {}\".format(0,1,xor_func(X[1])))\n",
        "print(\"NOR({}, {}) = {}\".format(1,0,xor_func(X[2])))\n",
        "print(\"NOR({}, {}) = {}\".format(1,1,xor_func(X[3])))"
      ],
      "metadata": {
        "colab": {
          "base_uri": "https://localhost:8080/"
        },
        "id": "k_buhHvOXfOM",
        "outputId": "a166e6ee-8c74-4a76-dfd3-3b192833716f"
      },
      "execution_count": 18,
      "outputs": [
        {
          "output_type": "stream",
          "name": "stdout",
          "text": [
            "NOR(0, 0) = 0\n",
            "NOR(0, 1) = 1\n",
            "NOR(1, 0) = 1\n",
            "NOR(1, 1) = 0\n"
          ]
        }
      ]
    },
    {
      "cell_type": "markdown",
      "source": [
        "IDTS it is right"
      ],
      "metadata": {
        "id": "j4s9bAvfZwcw"
      }
    },
    {
      "cell_type": "code",
      "source": [
        "learning_rate = 0.1\n",
        "weights = np.array([0.5, 0.5])\n",
        "bias = -0.5\n",
        "X = np.array([[0,0],[0,1],[1,0],[1,1]])\n",
        "y_out = np.array([0, 1, 1, 0])\n",
        "for epoch in range(100):\n",
        "  for i in range(len(X)):\n",
        "    y_in = np.dot(weights, X[i]+bias)\n",
        "    y_pred = step_func(y_in)\n",
        "    error = y_out[i] - y_pred\n",
        "    weights += learning_rate * error * X[i]\n",
        "    bias += learning_rate * error\n",
        "print(\"final wieghts: \", weights)\n",
        "print(\"final bias: \",bias)"
      ],
      "metadata": {
        "colab": {
          "base_uri": "https://localhost:8080/"
        },
        "id": "Iu-x1XgDYEk9",
        "outputId": "2b5103d9-2822-4b22-d431-5e3e4dbb0675"
      },
      "execution_count": 20,
      "outputs": [
        {
          "output_type": "stream",
          "name": "stdout",
          "text": [
            "final wieghts:  [-8.6 -8.6]\n",
            "final bias:  -17.999999999999986\n"
          ]
        }
      ]
    }
  ]
}