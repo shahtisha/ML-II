{
  "nbformat": 4,
  "nbformat_minor": 0,
  "metadata": {
    "colab": {
      "provenance": [],
      "authorship_tag": "ABX9TyNV7/Qy0od2dtYl6EXAcw/p"
    },
    "kernelspec": {
      "name": "python3",
      "display_name": "Python 3"
    },
    "language_info": {
      "name": "python"
    }
  },
  "cells": [
    {
      "cell_type": "code",
      "source": [
        "import numpy as np\n",
        "import matplotlib.pyplot as plt"
      ],
      "metadata": {
        "id": "d_CVF3ToPKFn"
      },
      "execution_count": 30,
      "outputs": []
    },
    {
      "cell_type": "code",
      "source": [
        "def perceptron(x, w, b):\n",
        "  y_in = np.dot(x, w)+b\n",
        "  y_pred = sigmoid(y_in)\n",
        "  return y_pred\n",
        "\n",
        "def sigmoid(y_in):\n",
        "  y_pred = 1/(1 + np.exp(-y_in))\n",
        "  return y_pred\n",
        "\n",
        "def DW(x, y, w, b):\n",
        "  y_pred = perceptron(x, w, b)\n",
        "  dw = (y-y_pred)*(1-y_pred)*y_pred*x\n",
        "  return dw\n",
        "\n",
        "def DB(x, y, w, b):\n",
        "  y_pred = perceptron(x, w, b)\n",
        "  db = (y-y_pred)*(1-y_pred)*y_pred\n",
        "  return db"
      ],
      "metadata": {
        "id": "9UjMxPnmQ5Bf"
      },
      "execution_count": 31,
      "outputs": []
    },
    {
      "cell_type": "code",
      "source": [
        "def momentum(x, y, w, b, alpha, beta, n):\n",
        "  weights = 0.0\n",
        "  bias = 0.0\n",
        "  error_epoch = 0.0\n",
        "  errors = []\n",
        "  for i in range(n):\n",
        "    dw = 0\n",
        "    db = 0\n",
        "    for xi, yi in zip(x, y):\n",
        "      dw += DW(xi, yi, w, b)\n",
        "      db += DB(xi, yi, w, b)\n",
        "      error_epoch += (yi - perceptron(xi, w, b))**2\n",
        "    weights = weights*beta + dw*(1-beta)\n",
        "    bias = bias*beta + db*(1-beta)\n",
        "    errors.append(error_epoch / len(x))\n",
        "    w -= weights*alpha\n",
        "    b -= bias*alpha\n",
        "  print(\"sqaured error loss \\n\",errors)\n",
        "  plt.plot(errors)\n",
        "  plt.xlabel(\"epoch\")\n",
        "  plt.ylabel(\"loss\")\n",
        "  plt.show()\n",
        "  return w, b\n",
        "\n",
        "x = np.array([0.5, 2.5])\n",
        "y = np.array([0.2, 0.9])\n",
        "w = 0.0\n",
        "b = 0.0\n",
        "alpha = 0.1\n",
        "beta = 0.9\n",
        "epoch = 10\n",
        "new_w, new_b = momentum(x, y, w, b, alpha, beta, epoch)\n",
        "print(\"updated weights are \",new_w)\n",
        "print(\"updated bias is \",new_b)"
      ],
      "metadata": {
        "colab": {
          "base_uri": "https://localhost:8080/",
          "height": 543
        },
        "id": "jO-68q-1TCJU",
        "outputId": "a01ce333-1bde-4adf-a92d-dc97ba26a13b"
      },
      "execution_count": 32,
      "outputs": [
        {
          "output_type": "stream",
          "name": "stdout",
          "text": [
            "sqaured error loss \n",
            " [0.125, 0.25045883182682394, 0.3767971040024927, 0.5044073356609323, 0.6336619027635743, 0.7649192320761677, 0.8985285705790133, 1.0348335698567914, 1.1741748549596356, 1.3168916929985923]\n"
          ]
        },
        {
          "output_type": "display_data",
          "data": {
            "text/plain": [
              "<Figure size 640x480 with 1 Axes>"
            ],
            "image/png": "[encoded data removed]"
          },
          "metadata": {}
        },
        {
          "output_type": "stream",
          "name": "stdout",
          "text": [
            "updated weights are  -0.09113331645849387\n",
            "updated bias is  -0.011869160011010214\n"
          ]
        }
      ]
    },
    {
      "cell_type": "code",
      "source": [],
      "metadata": {
        "id": "dYWGKGgKVAjV"
      },
      "execution_count": 32,
      "outputs": []
    }
  ]
}