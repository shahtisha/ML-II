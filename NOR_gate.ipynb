{
  "nbformat": 4,
  "nbformat_minor": 0,
  "metadata": {
    "colab": {
      "provenance": [],
      "authorship_tag": "ABX9TyOg7mpZ1ECaHIMsjLlhRdav"
    },
    "kernelspec": {
      "name": "python3",
      "display_name": "Python 3"
    },
    "language_info": {
      "name": "python"
    }
  },
  "cells": [
    {
      "cell_type": "code",
      "execution_count": 1,
      "metadata": {
        "id": "kbYx0ZWmWvZU"
      },
      "outputs": [],
      "source": [
        "import numpy as np\n",
        "def step_func(x):\n",
        "  if x<0:\n",
        "    return 0\n",
        "  else:\n",
        "    return 1\n",
        "def perceptron(x,w,b):\n",
        "  y_in = np.dot(x,w)+b\n",
        "  y_pred = step_func(y_in)\n",
        "  return y_pred"
      ]
    },
    {
      "cell_type": "code",
      "source": [
        "def or_func(x):\n",
        "  w = np.array([1,1])\n",
        "  b = -1\n",
        "  return perceptron(x,w,b)\n",
        "\n",
        "def not_func(x):\n",
        "  w = -1\n",
        "  b = 0\n",
        "  return perceptron(x, w, b)"
      ],
      "metadata": {
        "id": "usDucDhbXIoF"
      },
      "execution_count": 3,
      "outputs": []
    },
    {
      "cell_type": "code",
      "source": [
        "X = ([0,0], [0,1], [1,0], [1,1])\n",
        "def nor_func(x):\n",
        "  res1 = or_func(x)\n",
        "  res2 = not_func(res1)\n",
        "  return res2\n",
        "\n",
        "print(\"NOR({}, {}) = {}\".format(0,0,nor_func(X[0])))\n",
        "print(\"NOR({}, {}) = {}\".format(0,1,nor_func(X[1])))\n",
        "print(\"NOR({}, {}) = {}\".format(1,0,nor_func(X[2])))\n",
        "print(\"NOR({}, {}) = {}\".format(1,1,nor_func(X[3])))"
      ],
      "metadata": {
        "colab": {
          "base_uri": "https://localhost:8080/"
        },
        "id": "k_buhHvOXfOM",
        "outputId": "30fb5b73-2d4e-46da-c8ab-a3513e0d95b6"
      },
      "execution_count": 4,
      "outputs": [
        {
          "output_type": "stream",
          "name": "stdout",
          "text": [
            "NOR(0, 0) = 1\n",
            "NOR(0, 1) = 0\n",
            "NOR(1, 0) = 0\n",
            "NOR(1, 1) = 0\n"
          ]
        }
      ]
    },
    {
      "cell_type": "markdown",
      "source": [
        "IDTS it is right"
      ],
      "metadata": {
        "id": "j4s9bAvfZwcw"
      }
    },
    {
      "cell_type": "code",
      "source": [
        "learning_rate = 0.1\n",
        "weights = np.array([1.0, 1.0])\n",
        "bias = -0.5\n",
        "X = np.array([[0,0],[0,1],[1,0],[1,1]])\n",
        "y_out = np.array([1, 0, 0, 0])\n",
        "for epoch in range(100):\n",
        "  for i in range(len(X)):\n",
        "    y_in = np.dot(weights, X[i]+bias)\n",
        "    y_pred = step_func(y_in)\n",
        "    error = y_out[i] - y_pred\n",
        "    weights += learning_rate * error * X[i]\n",
        "    bias += learning_rate * error\n",
        "print(\"final wieghts: \", weights)\n",
        "print(\"final bias: \",bias)"
      ],
      "metadata": {
        "colab": {
          "base_uri": "https://localhost:8080/"
        },
        "id": "Iu-x1XgDYEk9",
        "outputId": "d3afe8a8-7e95-41cc-b3cd-0a7465a254a1"
      },
      "execution_count": 11,
      "outputs": [
        {
          "output_type": "stream",
          "name": "stdout",
          "text": [
            "final wieghts:  [-18. -18.]\n",
            "final bias:  -27.600000000000122\n"
          ]
        }
      ]
    }
  ]
}